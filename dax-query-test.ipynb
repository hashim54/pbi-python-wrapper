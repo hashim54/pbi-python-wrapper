{
 "cells": [
  {
   "cell_type": "code",
   "execution_count": null,
   "metadata": {},
   "outputs": [],
   "source": [
    "import msal\n",
    "import requests"
   ]
  },
  {
   "cell_type": "code",
   "execution_count": null,
   "metadata": {},
   "outputs": [],
   "source": [
    "TENANT_ID = \"\"\n",
    "CLIENT_ID = \"\"\n",
    "CLIENT_SECRET = \"\"\n",
    "\n",
    "# The resource ID or scope for Power BI\n",
    "SCOPE = [\"https://analysis.windows.net/powerbi/api/.default\"]\n",
    "\n",
    "# Authority will be https://login.microsoftonline.com/<TENANT_ID>\n",
    "AUTHORITY = f\"https://login.microsoftonline.com/{TENANT_ID}\"\n",
    "\n",
    "def get_access_token():\n",
    "    \"\"\"Retrieve an access token from Azure AD using the client credentials flow.\"\"\"\n",
    "    app = msal.ConfidentialClientApplication(\n",
    "        client_id=CLIENT_ID,\n",
    "        client_credential=CLIENT_SECRET,\n",
    "        authority=AUTHORITY\n",
    "    )\n",
    "\n",
    "    # Acquire a token from Azure AD\n",
    "    result = app.acquire_token_for_client(scopes=SCOPE)\n",
    "\n",
    "    if \"access_token\" in result:\n",
    "        return result[\"access_token\"]\n",
    "    else:\n",
    "        raise Exception(f\"Could not obtain access token: {result.get('error_description', result)}\")\n"
   ]
  },
  {
   "cell_type": "code",
   "execution_count": null,
   "metadata": {},
   "outputs": [],
   "source": [
    "def execute_powerbi_api_request(dax_query, Dataset_ID):\n",
    "    \"\"\"Example function that makes a POST request to PowerBI dataset.\"\"\"\n",
    "    access_token = get_access_token()\n",
    "\n",
    "    # Headers including the acquired token\n",
    "    headers = {\n",
    "        \"Authorization\": f\"Bearer {access_token}\"\n",
    "    }\n",
    "\n",
    "    # Sample Power BI REST API endpoint to execute a DAX query\n",
    "    url = \"https://api.powerbi.com/v1.0/myorg/datasets/\" + Dataset_ID + \"/executeQueries\"\n",
    "\n",
    "    body = {\n",
    "    \"queries\": [\n",
    "        {\n",
    "            \"query\": dax_query\n",
    "        }\n",
    "    ]\n",
    "}\n",
    "\n",
    "    response = requests.post(url, headers=headers, json=body)\n",
    "\n",
    "    if response.status_code == 200:\n",
    "        # Handle the data as needed\n",
    "        data = response.json()\n",
    "        print(data)\n",
    "    else:\n",
    "        print(f\"Request failed with status code {response.status_code}: {response.text}\")"
   ]
  },
  {
   "cell_type": "code",
   "execution_count": null,
   "metadata": {},
   "outputs": [],
   "source": [
    "Dataset_ID = \"\"\n",
    "dax_query=\"\"\n",
    "\n",
    "execute_powerbi_api_request(dax_query, Dataset_ID)"
   ]
  }
 ],
 "metadata": {
  "kernelspec": {
   "display_name": "Python 3",
   "language": "python",
   "name": "python3"
  },
  "language_info": {
   "codemirror_mode": {
    "name": "ipython",
    "version": 3
   },
   "file_extension": ".py",
   "mimetype": "text/x-python",
   "name": "python",
   "nbconvert_exporter": "python",
   "pygments_lexer": "ipython3",
   "version": "3.13.2"
  }
 },
 "nbformat": 4,
 "nbformat_minor": 2
}
